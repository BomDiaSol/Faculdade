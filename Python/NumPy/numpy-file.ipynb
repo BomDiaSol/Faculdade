{
 "cells": [
  {
   "cell_type": "code",
   "execution_count": 1,
   "metadata": {},
   "outputs": [],
   "source": [
    "import numpy as np"
   ]
  },
  {
   "cell_type": "code",
   "execution_count": 9,
   "metadata": {},
   "outputs": [
    {
     "name": "stdout",
     "output_type": "stream",
     "text": [
      "[[45 28 59 73 64 36 97 82 53 91 16]\n",
      " [75 61 19 33 29 78 72 80 48 68 55]\n",
      " [40 86 90 50 71 21 88 39 51 63 78]]\n"
     ]
    },
    {
     "data": {
      "text/plain": [
       "array([59, 73, 64, 97, 82, 53, 91, 75, 61, 78, 72, 80, 68, 55, 86, 90, 71,\n",
       "       88, 51, 63, 78], dtype=int32)"
      ]
     },
     "execution_count": 9,
     "metadata": {},
     "output_type": "execute_result"
    }
   ],
   "source": [
    "arquivo = np.genfromtxt('test.txt', delimiter=\",\")\n",
    "arquivo = arquivo.astype('int32')\n",
    "print(arquivo)\n",
    "\n",
    "arquivo > 50\n",
    "arquivo  [arquivo > 50]"
   ]
  },
  {
   "cell_type": "code",
   "execution_count": null,
   "metadata": {},
   "outputs": [
    {
     "data": {
      "text/plain": [
       "array([ True, False, False,  True, False, False,  True,  True,  True,\n",
       "        True, False])"
      ]
     },
     "execution_count": 11,
     "metadata": {},
     "output_type": "execute_result"
    }
   ],
   "source": [
    "np.any(arquivo  > 30, axis= 0)"
   ]
  },
  {
   "cell_type": "code",
   "execution_count": 12,
   "metadata": {},
   "outputs": [
    {
     "data": {
      "text/plain": [
       "array([ True, False, False,  True, False, False,  True,  True,  True,\n",
       "        True, False])"
      ]
     },
     "execution_count": 12,
     "metadata": {},
     "output_type": "execute_result"
    }
   ],
   "source": [
    "np.all(arquivo  > 30, axis= 0)"
   ]
  },
  {
   "cell_type": "code",
   "execution_count": 13,
   "metadata": {},
   "outputs": [
    {
     "data": {
      "text/plain": [
       "array([[ True,  True, False, False, False,  True, False, False, False,\n",
       "        False,  True],\n",
       "       [False, False,  True,  True,  True, False, False, False,  True,\n",
       "        False, False],\n",
       "       [ True, False, False, False, False,  True, False,  True, False,\n",
       "        False, False]])"
      ]
     },
     "execution_count": 13,
     "metadata": {},
     "output_type": "execute_result"
    }
   ],
   "source": [
    "((arquivo > 10) & (arquivo < 50))"
   ]
  },
  {
   "cell_type": "code",
   "execution_count": 19,
   "metadata": {},
   "outputs": [
    {
     "name": "stdout",
     "output_type": "stream",
     "text": [
      "[[62 35 84 57 46 71 11 68 53 79 29]\n",
      " [22 49 61 66 94 41 15 25 38 92 30]\n",
      " [76 56 77 27 65 87 52 39 80 47 33]]\n"
     ]
    }
   ],
   "source": [
    "arquivo2 = np.genfromtxt(\"test2.txt\", delimiter=\",\")\n",
    "arquivo2 = arquivo2.astype('int32')\n",
    "print(arquivo2)"
   ]
  },
  {
   "cell_type": "code",
   "execution_count": 21,
   "metadata": {},
   "outputs": [
    {
     "data": {
      "text/plain": [
       "array([[45, 28, 59, 73, 64, 36, 97, 82, 53, 91, 16],\n",
       "       [75, 61, 19, 33, 29, 78, 72, 80, 48, 68, 55],\n",
       "       [40, 86, 90, 50, 71, 21, 88, 39, 51, 63, 78],\n",
       "       [62, 35, 84, 57, 46, 71, 11, 68, 53, 79, 29],\n",
       "       [22, 49, 61, 66, 94, 41, 15, 25, 38, 92, 30],\n",
       "       [76, 56, 77, 27, 65, 87, 52, 39, 80, 47, 33]], dtype=int32)"
      ]
     },
     "execution_count": 21,
     "metadata": {},
     "output_type": "execute_result"
    }
   ],
   "source": [
    "arquivo3 = np.concatenate((arquivo, arquivo2), axis=0)\n",
    "arquivo3"
   ]
  },
  {
   "cell_type": "code",
   "execution_count": 29,
   "metadata": {},
   "outputs": [],
   "source": [
    "np.savetxt(\"arquivo3.txt\", arquivo3, fmt=\"%d\", delimiter=\",\")"
   ]
  },
  {
   "cell_type": "code",
   "execution_count": null,
   "metadata": {},
   "outputs": [
    {
     "data": {
      "text/plain": [
       "array([[45, 28, 59, 73, 64, 36, 97, 82, 53, 91, 16, 62, 35, 84, 57, 46,\n",
       "        71, 11, 68, 53, 79, 29],\n",
       "       [75, 61, 19, 33, 29, 78, 72, 80, 48, 68, 55, 22, 49, 61, 66, 94,\n",
       "        41, 15, 25, 38, 92, 30],\n",
       "       [40, 86, 90, 50, 71, 21, 88, 39, 51, 63, 78, 76, 56, 77, 27, 65,\n",
       "        87, 52, 39, 80, 47, 33]], dtype=int32)"
      ]
     },
     "execution_count": 24,
     "metadata": {},
     "output_type": "execute_result"
    }
   ],
   "source": [
    "arquivo4 = np.stack((arquivo, arquivo2))\n",
    "arquivo5 = np.vstack((arquivo, arquivo2)) #vertical\n",
    "arquivo6 = np.hstack((arquivo, arquivo2)) #horizontal\n",
    "\n",
    "arquivo4\n",
    "arquivo5\n",
    "arquivo6"
   ]
  },
  {
   "cell_type": "code",
   "execution_count": 28,
   "metadata": {},
   "outputs": [
    {
     "data": {
      "text/plain": [
       "[array([[45, 28, 59, 73, 64, 36, 97, 82, 53, 91, 16],\n",
       "        [75, 61, 19, 33, 29, 78, 72, 80, 48, 68, 55]], dtype=int32),\n",
       " array([[40, 86, 90, 50, 71, 21, 88, 39, 51, 63, 78],\n",
       "        [62, 35, 84, 57, 46, 71, 11, 68, 53, 79, 29]], dtype=int32),\n",
       " array([[22, 49, 61, 66, 94, 41, 15, 25, 38, 92, 30],\n",
       "        [76, 56, 77, 27, 65, 87, 52, 39, 80, 47, 33]], dtype=int32)]"
      ]
     },
     "execution_count": 28,
     "metadata": {},
     "output_type": "execute_result"
    }
   ],
   "source": [
    "arquivo7 = np.split(arquivo3, 3, axis=0)\n",
    "arquivo7"
   ]
  }
 ],
 "metadata": {
  "kernelspec": {
   "display_name": "Python 3",
   "language": "python",
   "name": "python3"
  },
  "language_info": {
   "codemirror_mode": {
    "name": "ipython",
    "version": 3
   },
   "file_extension": ".py",
   "mimetype": "text/x-python",
   "name": "python",
   "nbconvert_exporter": "python",
   "pygments_lexer": "ipython3",
   "version": "3.13.2"
  }
 },
 "nbformat": 4,
 "nbformat_minor": 2
}
