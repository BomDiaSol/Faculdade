{
 "cells": [
  {
   "cell_type": "code",
   "execution_count": 1,
   "metadata": {},
   "outputs": [],
   "source": [
    "import numpy as np"
   ]
  },
  {
   "cell_type": "code",
   "execution_count": 19,
   "metadata": {},
   "outputs": [
    {
     "name": "stdout",
     "output_type": "stream",
     "text": [
      "[[17 14 14 11 14]\n",
      " [ 7  8  3  5 13]\n",
      " [ 1  6  7 17 12]\n",
      " [ 2  6 14  6 14]\n",
      " [17  3  4 15 17]]\n",
      "1\n",
      "17\n",
      "[[17 14 14 11 14]\n",
      " [ 0  0  0  0 13]\n",
      " [ 0  0  0 17 12]\n",
      " [ 0  0 14  0 14]\n",
      " [17  0  0 15 17]]\n"
     ]
    }
   ],
   "source": [
    "matriz = np.random.randint(1, 20, size=(5,5))\n",
    "min = np.min(matriz)\n",
    "max = np.max(matriz)\n",
    "\n",
    "print(matriz)\n",
    "\n",
    "print(min)\n",
    "print(max)\n",
    "\n",
    "matriz[matriz < 10] = 0\n",
    "print(matriz)\n"
   ]
  },
  {
   "cell_type": "code",
   "execution_count": 20,
   "metadata": {},
   "outputs": [
    {
     "name": "stdout",
     "output_type": "stream",
     "text": [
      "70\n",
      "13\n",
      "29\n",
      "28\n",
      "49\n"
     ]
    }
   ],
   "source": [
    "arr1_sum = np.sum(matriz[0, :])\n",
    "arr2_sum = np.sum(matriz[1, :])\n",
    "arr3_sum = np.sum(matriz[2, :])\n",
    "arr4_sum = np.sum(matriz[3, :])\n",
    "arr5_sum = np.sum(matriz[4, :])\n",
    "\n",
    "print(arr1_sum)\n",
    "print(arr2_sum)\n",
    "print(arr3_sum)\n",
    "print(arr4_sum)\n",
    "print(arr5_sum)"
   ]
  },
  {
   "cell_type": "code",
   "execution_count": 25,
   "metadata": {},
   "outputs": [
    {
     "name": "stdout",
     "output_type": "stream",
     "text": [
      "[70 13 29 28 49]\n",
      "[34 14 28 43 70]\n"
     ]
    }
   ],
   "source": [
    "soma_linhas = np.sum(matriz, axis=1)\n",
    "print(soma_linhas)\n",
    "\n",
    "soma_colunas = np.sum(matriz, axis=0)\n",
    "print(soma_colunas)"
   ]
  },
  {
   "cell_type": "code",
   "execution_count": null,
   "metadata": {},
   "outputs": [
    {
     "name": "stdout",
     "output_type": "stream",
     "text": [
      "7.56\n",
      "7.56\n"
     ]
    }
   ],
   "source": [
    "media1 = np.mean(matriz)\n",
    "print(media1)\n",
    "\n",
    "media2 = np.sum(matriz) / matriz.size # Usar len() se for array 1D e .size se for 2D+\n",
    "print(media2)"
   ]
  }
 ],
 "metadata": {
  "kernelspec": {
   "display_name": "Python 3",
   "language": "python",
   "name": "python3"
  },
  "language_info": {
   "codemirror_mode": {
    "name": "ipython",
    "version": 3
   },
   "file_extension": ".py",
   "mimetype": "text/x-python",
   "name": "python",
   "nbconvert_exporter": "python",
   "pygments_lexer": "ipython3",
   "version": "3.13.2"
  }
 },
 "nbformat": 4,
 "nbformat_minor": 2
}
