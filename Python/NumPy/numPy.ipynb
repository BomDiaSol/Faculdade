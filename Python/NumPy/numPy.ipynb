{
 "cells": [
  {
   "cell_type": "code",
   "execution_count": 58,
   "metadata": {},
   "outputs": [],
   "source": [
    "import numpy as np\n",
    "import matplotlib.pyplot as plt"
   ]
  },
  {
   "cell_type": "code",
   "execution_count": 5,
   "metadata": {},
   "outputs": [
    {
     "name": "stdout",
     "output_type": "stream",
     "text": [
      "[1 2 3]\n"
     ]
    }
   ],
   "source": [
    "a = np.array([1,2,3])\n",
    "print(a)"
   ]
  },
  {
   "cell_type": "code",
   "execution_count": 35,
   "metadata": {},
   "outputs": [
    {
     "name": "stdout",
     "output_type": "stream",
     "text": [
      "[[0 0 0 0 0]\n",
      " [0 0 0 0 0]\n",
      " [0 0 0 0 0]\n",
      " [0 0 0 0 0]\n",
      " [0 0 0 0 0]]\n"
     ]
    }
   ],
   "source": [
    "arr = np.zeros((5,5), dtype=\"int32\")\n",
    "print(arr)"
   ]
  },
  {
   "cell_type": "code",
   "execution_count": 36,
   "metadata": {},
   "outputs": [
    {
     "name": "stdout",
     "output_type": "stream",
     "text": [
      "[[1 1 1 1 1]\n",
      " [1 0 0 0 1]\n",
      " [1 0 9 0 1]\n",
      " [1 0 0 0 1]\n",
      " [1 1 1 1 1]]\n"
     ]
    }
   ],
   "source": [
    "arr[0, :] = 1\n",
    "arr[:, 0] = 1\n",
    "arr[4, :] = 1\n",
    "arr[:, 4] = 1\n",
    "\n",
    "arr[2, 2] = 9\n",
    "print(arr)"
   ]
  },
  {
   "cell_type": "code",
   "execution_count": null,
   "metadata": {},
   "outputs": [
    {
     "name": "stdout",
     "output_type": "stream",
     "text": [
      "[57 30 59 90 21 97 77 35 93 83 73 28 65 44 85 21 56 60 10 16 94 89 55 85\n",
      " 67 69 87 40 13 82 33 61 24 83 23 84 61 26 55 80 89 95 67 88 68 57 45 80\n",
      " 90 74 73 31 69 48 90 82 63 14 89 39 23 15 60 21 56 79 18 64 36 66 46 92\n",
      " 49 47 16 95 56 59 73 43 52 22 92 84 47 84 50 41 70 98 53 24 11 10 91 90\n",
      " 40 61 30 34 89 86 43 88 59 77 48 72 74 63 30 37 62 40 64 15 88 55 90 66\n",
      " 14 46 35 79 23 86 99 14 12 68 90 57 28 92 82 86 39 15 17 46 37 46 85 23\n",
      " 54 70 54 67 90 45 65 89 55 13 45 78 85 12 35 57 83 76 80 35 72 42 26 68\n",
      " 51 53 79 46 59 51 44 51 30 97 43 71 61 61 37 45 71 90 71 95 47 60 51 42\n",
      " 75 72 81 82 44 72 21 95 19 92 94 72 24 83 39 87 97 60 26 79 25 87 37 30\n",
      " 83 20 25 23 31 79 46 93 86 13 69 30 58 16 57 23 26 28 15 92 62 52 47 42\n",
      " 68 56 92 42 36 14 93 98 49 34 14 70 64 92 63 87 91 21 45 26 39 62 84 38\n",
      " 68 18 48 95 65 86 40 85 69 25 43 33 19 77 95 69 77 62 63 34 84 76 87 83\n",
      " 26 34 25 22 15 78 25 54 42 61 23 99 57 20 56 63 50 28 85 36 91 36 21 91\n",
      " 62 96 16 64 13 64 80 13 36 89 72 25 23 36 25 21 81 68 54 98 20 24 60 25\n",
      " 18 23 14 40 73 48 71 76 47 43 82 66 96 94 77 79 50 42 41 83 86 29 18 99\n",
      " 63 73 21 75 18 45 74 71 55 85 88 34 95 44 94 23 48 66 65 55 46 82 79 32\n",
      " 35 50 70 82 27 59 60 47 76 20 44 40 98 71 67 21 39 45 65 12 42 76 23 58\n",
      " 14 75 27 87 36 12 49 99 77 81 43 75 74 71 41 20 70 29 10 27 56 24 60 35\n",
      " 95 39 99 30 54 62 87 49 35 21 85 38 99 30 10 69 84 25 71 41 95 58 78 49\n",
      " 17 34 20 40 32 34 97 81 27 84 95 41 94 76 10 49 10 44 29 67 63 60 20 13\n",
      " 88 23 53 62 61 66 50 84 15 32 32 44 78 47 43 44 21 15 26 56 67 77 21 43\n",
      " 90 46 91 12 17 46 31 95 87 26 12 36 58 63 42 54 72 16 45 94 28 29 93 38\n",
      " 92 90 98 75 79 40 25 82 61 36 48 56 14 25 16 80 23 91 34 35 92 61 99 42\n",
      " 21 30 62 81 78 14 49 61 30 65 46 75 20 78 43 65 99 40 88 26 81 43 94 22\n",
      " 64 41 12 72 90 17 76 76 50 53 95 62 27 14 63 84 89 37 31 58 64 28 95 78\n",
      " 98 23 59 23 24 15 28 10 81 13 37 85 76 57 23 36 75 55 17 94 54 15 54 67\n",
      " 17 34 65 76 36 70 80 88 61 85 96 46 93 54 47 82 32 75 43 42 78 48 66 19\n",
      " 93 34 21 62 33 30 43 49 45 44 61 53 94 93 12 29 76 71 26 12 46 72 89 75\n",
      " 86 80 30 77 59 46 71 74 88 28 84 66 87 83 86 53 14 39 53 86 53 42 98 52\n",
      " 17 49 93 81 25 62 30 38 46 11 95 40 95 43 41 78 24 30 51 38 95 94 98 38\n",
      " 97 92 30 35 37 50 13 97 67 80 94 78 73 30 37 86 28 47 45 51 66 15 87 29\n",
      " 23 69 72 16 82 34 69 17 59 55 68 70 55 98 20 73 87 31 85 72 20 96 75 58\n",
      " 78 17 47 33 66 65 91 65 63 16 31 54 71 41 84 53 88 32 24 19 42 63 24 63\n",
      " 51 19 32 49 96 96 52 71 53 83 12 57 53 25 59 66 23 74 61 13 60 10 37 76\n",
      " 42 40 88 76 12 67 74 52 66 74 59 86 74 93 23 72 10 86 48 43 63 82 53 37\n",
      " 61 50 40 38 82 38 63 69 49 52 16 59 92 63 81 69 93 29 22 13 36 81 58 24\n",
      " 18 92 72 96 95 69 69 41 56 96 58 80 29 13 55 16 83 44 34 80 45 82 94 25\n",
      " 20 59 27 61 87 70 79 11 25 63 39 55 99 37 76 49 17 93 96 98 20 62 22 64\n",
      " 48 31 40 59 82 64 11 73 25 85 76 19 26 45 62 14 32 14 96 93 41 69 76 32\n",
      " 16 42 26 17 22 92 28 88 38 41 91 16 10 88 53 16 26 80 97 47 98 67 65 87\n",
      " 30 69 44 97 15 86 82 33 71 10 38 77 76 21 35 85 58 65 83 10 41 65 61 53\n",
      " 30 58 58 88 97 50 19 24 20 61 42 62 49 80 28 79]\n",
      "55024\n",
      "1000\n",
      "55.024\n",
      "55.5\n",
      "25.889253059908853\n",
      "[57 59 90 97 77 93 83 73 65 85 56 60 94 89 85 67 69 87 82 61 83 84 61 80\n",
      " 89 95 67 88 68 57 80 90 74 73 69 90 82 63 89 60 56 79 64 66 92 95 56 59\n",
      " 73 92 84 84 70 98 91 90 61 89 86 88 59 77 72 74 63 62 64 88 90 66 79 86\n",
      " 99 68 90 57 92 82 86 85 70 67 90 65 89 78 85 57 83 76 80 72 68 79 59 97\n",
      " 71 61 61 71 90 71 95 60 75 72 81 82 72 95 92 94 72 83 87 97 60 79 87 83\n",
      " 79 93 86 69 58 57 92 62 68 56 92 93 98 70 64 92 63 87 91 62 84 68 95 65\n",
      " 86 85 69 77 95 69 77 62 63 84 76 87 83 78 61 99 57 56 63 85 91 91 62 96\n",
      " 64 64 80 89 72 81 68 98 60 73 71 76 82 66 96 94 77 79 83 86 99 63 73 75\n",
      " 74 71 85 88 95 94 66 65 82 79 70 82 59 60 76 98 71 67 65 76 58 75 87 99\n",
      " 77 81 75 74 71 70 56 60 95 99 62 87 85 99 69 84 71 95 58 78 97 81 84 95\n",
      " 94 76 67 63 60 88 62 61 66 84 78 56 67 77 90 91 95 87 58 63 72 94 93 92\n",
      " 90 98 75 79 82 61 56 80 91 92 61 99 62 81 78 61 65 75 78 65 99 88 81 94\n",
      " 64 72 90 76 76 95 62 63 84 89 58 64 95 78 98 59 81 85 76 57 75 94 67 65\n",
      " 76 70 80 88 61 85 96 93 82 75 78 66 93 62 61 94 93 76 71 72 89 75 86 80\n",
      " 77 59 71 74 88 84 66 87 83 86 86 98 93 81 62 95 95 78 95 94 98 97 92 97\n",
      " 67 80 94 78 73 86 66 87 69 72 82 69 59 68 70 98 73 87 85 72 96 75 58 78\n",
      " 66 65 91 65 63 71 84 88 63 63 96 96 71 83 57 59 66 74 61 60 76 88 76 67\n",
      " 74 66 74 59 86 74 93 72 86 63 82 61 82 63 69 59 92 63 81 69 93 81 58 92\n",
      " 72 96 95 69 69 56 96 58 80 83 80 82 94 59 61 87 70 79 63 99 76 93 96 98\n",
      " 62 64 59 82 64 73 85 76 62 96 93 69 76 92 88 91 88 80 97 98 67 65 87 69\n",
      " 97 86 82 71 77 76 85 58 65 83 65 61 58 58 88 97 61 62 80 79]\n",
      "Min: 10\n",
      "Max: 99\n",
      "Novo intervalo após normalização: [-88.0, -0.0]\n"
     ]
    },
    {
     "name": "stderr",
     "output_type": "stream",
     "text": [
      "C:\\Users\\lulra\\AppData\\Local\\Temp\\ipykernel_11172\\622894188.py:26: RuntimeWarning: divide by zero encountered in divide\n",
      "  normalizados = (stats - min) / (stats - max)\n"
     ]
    }
   ],
   "source": [
    "stats = np.random.randint(10, 100, size=(1000))\n",
    "print(stats)\n",
    "\n",
    "soma = np.sum(stats)\n",
    "print(soma)\n",
    "\n",
    "n_variaveis = len(stats)\n",
    "print(n_variaveis)\n",
    "\n",
    "media = soma / len(stats)\n",
    "print(media)\n",
    "\n",
    "mediana = np.median(stats)\n",
    "print(mediana)\n",
    "\n",
    "desvio = np.std(stats, axis = 0) # O uso de axis só é necessário se for 2D pra cima\n",
    "print(desvio)\n",
    "\n",
    "maior_que_media = stats[stats > media]\n",
    "print(maior_que_media)\n",
    "\n",
    "min = np.amin(stats, axis = 0)\n",
    "max = np.amax(stats, axis = 0)\n",
    "print(f\"Min: {min}\\nMax: {max}\")\n",
    "\n",
    "#normalizados = (stats - min) / (stats - max)\n",
    "#normalizados = normalizados[np.isfinite(normalizados)]\n",
    "#print(f'Novo intervalo após normalização: [{np.min(normalizados)}, {np.max(normalizados)}]')"
   ]
  },
  {
   "cell_type": "code",
   "execution_count": 64,
   "metadata": {},
   "outputs": [
    {
     "data": {
      "image/png": "[encoded data removed]",
      "text/plain": [
       "<Figure size 640x480 with 1 Axes>"
      ]
     },
     "metadata": {},
     "output_type": "display_data"
    }
   ],
   "source": [
    "plt.hist(stats, bins=20, edgecolor='black')\n",
    "plt.title('Histograma dos dados não normalizados')\n",
    "plt.xlabel('Valor')\n",
    "plt.ylabel('Frequência')\n",
    "plt.show()"
   ]
  }
 ],
 "metadata": {
  "kernelspec": {
   "display_name": "Python 3",
   "language": "python",
   "name": "python3"
  },
  "language_info": {
   "codemirror_mode": {
    "name": "ipython",
    "version": 3
   },
   "file_extension": ".py",
   "mimetype": "text/x-python",
   "name": "python",
   "nbconvert_exporter": "python",
   "pygments_lexer": "ipython3",
   "version": "3.13.2"
  }
 },
 "nbformat": 4,
 "nbformat_minor": 2
}
