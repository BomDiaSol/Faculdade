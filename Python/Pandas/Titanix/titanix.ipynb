{
 "cells": [
  {
   "cell_type": "markdown",
   "metadata": {},
   "source": [
    "# Variable Notes  \n",
    "\n",
    "## pclass  \n",
    "**A proxy for socio-economic status (SES):**  \n",
    "- **1st** = Upper  \n",
    "- **2nd** = Middle  \n",
    "- **3rd** = Lower  \n",
    "\n",
    "## age  \n",
    "- Age is fractional if less than 1.  \n",
    "- If the age is estimated, it is in the form of `xx.5`.  \n",
    "\n",
    "## sibsp  \n",
    "The dataset defines family relations in this way:  \n",
    "- **Sibling** = brother, sister, stepbrother, stepsister  \n",
    "- **Spouse** = husband, wife *(mistresses and fiancés were ignored)*  \n",
    "\n",
    "## parch  \n",
    "The dataset defines family relations in this way:  \n",
    "- **Parent** = mother, father  \n",
    "- **Child** = daughter, son, stepdaughter, stepson  \n",
    "- Some children traveled only with a nanny, therefore `parch=0` for them.  \n"
   ]
  },
  {
   "cell_type": "code",
   "execution_count": 51,
   "metadata": {},
   "outputs": [
    {
     "name": "stdout",
     "output_type": "stream",
     "text": [
      "Index(['PassengerId', 'Survived', 'Pclass', 'Name', 'Sex', 'Age', 'SibSp',\n",
      "       'Parch', 'Ticket', 'Fare', 'Cabin', 'Embarked'],\n",
      "      dtype='object')\n",
      "   PassengerId  Survived  Pclass  \\\n",
      "0            1         0       3   \n",
      "1            2         1       1   \n",
      "2            3         1       3   \n",
      "3            4         1       1   \n",
      "4            5         0       3   \n",
      "\n",
      "                                                Name     Sex   Age  SibSp  \\\n",
      "0                            Braund, Mr. Owen Harris    male  22.0      1   \n",
      "1  Cumings, Mrs. John Bradley (Florence Briggs Th...  female  38.0      1   \n",
      "2                             Heikkinen, Miss. Laina  female  26.0      0   \n",
      "3       Futrelle, Mrs. Jacques Heath (Lily May Peel)  female  35.0      1   \n",
      "4                           Allen, Mr. William Henry    male  35.0      0   \n",
      "\n",
      "   Parch            Ticket     Fare Cabin Embarked  \n",
      "0      0         A/5 21171   7.2500   NaN        S  \n",
      "1      0          PC 17599  71.2833   C85        C  \n",
      "2      0  STON/O2. 3101282   7.9250   NaN        S  \n",
      "3      0            113803  53.1000  C123        S  \n",
      "4      0            373450   8.0500   NaN        S  \n"
     ]
    }
   ],
   "source": [
    "import pandas as pd\n",
    "df = pd.read_csv('train.csv')\n",
    "print(df.columns)\n",
    "print(df.head(5))"
   ]
  },
  {
   "cell_type": "code",
   "execution_count": null,
   "metadata": {},
   "outputs": [
    {
     "name": "stdout",
     "output_type": "stream",
     "text": [
      "Linhas: 891 | Colunas: 12\n"
     ]
    }
   ],
   "source": [
    "row = df.shape[0] # Nº de linhas\n",
    "columns = df.shape[1] # Nº de colunas\n",
    "\n",
    "# OUTRO MEÉTODO\n",
    "# print(len(df))\n",
    "# print(len(df.columns))\n",
    "\n",
    "print(f'Linhas: {row} | Colunas: {columns}')"
   ]
  },
  {
   "cell_type": "code",
   "execution_count": null,
   "metadata": {},
   "outputs": [
    {
     "name": "stdout",
     "output_type": "stream",
     "text": [
      "A média da idade dos passageiro era: 29.70\n"
     ]
    }
   ],
   "source": [
    "media_idade = df['Age'].mean()\n",
    "formatada = \"{:.2f}\".format(media_idade)\n",
    "print(f'A média da idade dos passageiro era: {formatada}')"
   ]
  },
  {
   "cell_type": "code",
   "execution_count": null,
   "metadata": {},
   "outputs": [
    {
     "data": {
      "text/html": [
       "<div>\n",
       "<style scoped>\n",
       "    .dataframe tbody tr th:only-of-type {\n",
       "        vertical-align: middle;\n",
       "    }\n",
       "\n",
       "    .dataframe tbody tr th {\n",
       "        vertical-align: top;\n",
       "    }\n",
       "\n",
       "    .dataframe thead th {\n",
       "        text-align: right;\n",
       "    }\n",
       "</style>\n",
       "<table border=\"1\" class=\"dataframe\">\n",
       "  <thead>\n",
       "    <tr style=\"text-align: right;\">\n",
       "      <th></th>\n",
       "      <th>Name</th>\n",
       "      <th>Survived</th>\n",
       "    </tr>\n",
       "  </thead>\n",
       "  <tbody>\n",
       "    <tr>\n",
       "      <th>0</th>\n",
       "      <td>Braund, Mr. Owen Harris</td>\n",
       "      <td>0</td>\n",
       "    </tr>\n",
       "    <tr>\n",
       "      <th>1</th>\n",
       "      <td>Cumings, Mrs. John Bradley (Florence Briggs Th...</td>\n",
       "      <td>1</td>\n",
       "    </tr>\n",
       "    <tr>\n",
       "      <th>2</th>\n",
       "      <td>Heikkinen, Miss. Laina</td>\n",
       "      <td>1</td>\n",
       "    </tr>\n",
       "    <tr>\n",
       "      <th>3</th>\n",
       "      <td>Futrelle, Mrs. Jacques Heath (Lily May Peel)</td>\n",
       "      <td>1</td>\n",
       "    </tr>\n",
       "    <tr>\n",
       "      <th>4</th>\n",
       "      <td>Allen, Mr. William Henry</td>\n",
       "      <td>0</td>\n",
       "    </tr>\n",
       "    <tr>\n",
       "      <th>...</th>\n",
       "      <td>...</td>\n",
       "      <td>...</td>\n",
       "    </tr>\n",
       "    <tr>\n",
       "      <th>886</th>\n",
       "      <td>Montvila, Rev. Juozas</td>\n",
       "      <td>0</td>\n",
       "    </tr>\n",
       "    <tr>\n",
       "      <th>887</th>\n",
       "      <td>Graham, Miss. Margaret Edith</td>\n",
       "      <td>1</td>\n",
       "    </tr>\n",
       "    <tr>\n",
       "      <th>888</th>\n",
       "      <td>Johnston, Miss. Catherine Helen \"Carrie\"</td>\n",
       "      <td>0</td>\n",
       "    </tr>\n",
       "    <tr>\n",
       "      <th>889</th>\n",
       "      <td>Behr, Mr. Karl Howell</td>\n",
       "      <td>1</td>\n",
       "    </tr>\n",
       "    <tr>\n",
       "      <th>890</th>\n",
       "      <td>Dooley, Mr. Patrick</td>\n",
       "      <td>0</td>\n",
       "    </tr>\n",
       "  </tbody>\n",
       "</table>\n",
       "<p>891 rows × 2 columns</p>\n",
       "</div>"
      ],
      "text/plain": [
       "                                                  Name  Survived\n",
       "0                              Braund, Mr. Owen Harris         0\n",
       "1    Cumings, Mrs. John Bradley (Florence Briggs Th...         1\n",
       "2                               Heikkinen, Miss. Laina         1\n",
       "3         Futrelle, Mrs. Jacques Heath (Lily May Peel)         1\n",
       "4                             Allen, Mr. William Henry         0\n",
       "..                                                 ...       ...\n",
       "886                              Montvila, Rev. Juozas         0\n",
       "887                       Graham, Miss. Margaret Edith         1\n",
       "888           Johnston, Miss. Catherine Helen \"Carrie\"         0\n",
       "889                              Behr, Mr. Karl Howell         1\n",
       "890                                Dooley, Mr. Patrick         0\n",
       "\n",
       "[891 rows x 2 columns]"
      ]
     },
     "execution_count": 31,
     "metadata": {},
     "output_type": "execute_result"
    }
   ],
   "source": [
    "df[['Name', 'Survived']]"
   ]
  },
  {
   "cell_type": "code",
   "execution_count": 41,
   "metadata": {},
   "outputs": [
    {
     "name": "stdout",
     "output_type": "stream",
     "text": [
      "Survived\n",
      "0    549\n",
      "1    342\n",
      "Name: count, dtype: int64 \n",
      "\n",
      "Sobreviventes: 342 | Não sobreviventes: 549\n"
     ]
    }
   ],
   "source": [
    "total_passageiros = df['Survived'].value_counts()\n",
    "print(total_passageiros, '\\n')\n",
    "\n",
    "sobreviveram = total_passageiros.get(1, 0)\n",
    "n_sobreviveram = total_passageiros.get(0, 0)\n",
    "print(f'Sobreviventes: {sobreviveram} | Não sobreviventes: {n_sobreviveram}')"
   ]
  },
  {
   "cell_type": "code",
   "execution_count": 50,
   "metadata": {},
   "outputs": [
    {
     "name": "stdout",
     "output_type": "stream",
     "text": [
      "Sex\n",
      "male      577\n",
      "female    314\n",
      "Name: count, dtype: int64 \n",
      "\n",
      "Porcentagem de mulheres: 35.24%\n",
      "Porcentagem de homens: 64.76%\n"
     ]
    }
   ],
   "source": [
    "sexo = df['Sex'].value_counts()\n",
    "print(sexo, '\\n')\n",
    "\n",
    "mulheres = \"{:.2%}\".format((sexo.get('female', 0) / len(df)))\n",
    "print(f'Porcentagem de mulheres: {mulheres}')\n",
    "\n",
    "homens = \"{:.2%}\".format((sexo.get('male', 0) / len(df)))\n",
    "print(f'Porcentagem de homens: {homens}')"
   ]
  },
  {
   "cell_type": "code",
   "execution_count": 54,
   "metadata": {},
   "outputs": [
    {
     "name": "stdout",
     "output_type": "stream",
     "text": [
      "Crianças: 69\n",
      "Adolescentes: 44\n",
      "Adultos: 575\n",
      "Idosos: 26\n"
     ]
    }
   ],
   "source": [
    "criancas = 0\n",
    "adolecentes = 0\n",
    "adultos = 0\n",
    "idosos = 0\n",
    "\n",
    "for index, row in df.iterrows():\n",
    "    if row['Age'] >= 0.0 and row['Age'] <= 12.0:\n",
    "        criancas += 1\n",
    "\n",
    "    elif row['Age'] >= 13.0 and row['Age'] <= 17.0:\n",
    "        adolecentes += 1\n",
    "\n",
    "    elif row['Age'] >= 18.0 and row['Age'] <= 59.0:\n",
    "        adultos += 1\n",
    "\n",
    "    elif row['Age'] >= 60.0:\n",
    "        idosos += 1\n",
    "\n",
    "print(f'Crianças: {criancas}')\n",
    "print(f'Adolescentes: {adolecentes}')\n",
    "print(f'Adultos: {adultos}')\n",
    "print(f'Idosos: {idosos}')\n"
   ]
  },
  {
   "cell_type": "code",
   "execution_count": null,
   "metadata": {},
   "outputs": [
    {
     "name": "stdout",
     "output_type": "stream",
     "text": [
      "<pandas.core.groupby.generic.DataFrameGroupBy object at 0x000001FB986087C0>\n"
     ]
    }
   ],
   "source": [
    "df['Faixa Etária'] = ''\n",
    "\n",
    "for index, row in df.iterrows():\n",
    "    if row['Age'] >= 0.0 and row['Age'] <= 12.0:\n",
    "        df['Faixa Etária'] = 'Criança'\n",
    "\n",
    "    elif row['Age'] >= 13.0 and row['Age'] <= 17.0:\n",
    "        df['Faixa Etária'] = 'Adolecente'\n",
    "\n",
    "    elif row['Age'] >= 18.0 and row['Age'] <= 59.0:\n",
    "        df['Faixa Etária'] = 'Adulto'\n",
    "\n",
    "    elif row['Age'] >= 60.0:\n",
    "        df['Faixa Etária'] = 'Idoso'\n",
    "\n",
    "grupos_etarios = df.groupby(['Faixa Etária'])\n",
    "print(grupos_etarios)\n"
   ]
  }
 ],
 "metadata": {
  "kernelspec": {
   "display_name": "Python 3",
   "language": "python",
   "name": "python3"
  },
  "language_info": {
   "codemirror_mode": {
    "name": "ipython",
    "version": 3
   },
   "file_extension": ".py",
   "mimetype": "text/x-python",
   "name": "python",
   "nbconvert_exporter": "python",
   "pygments_lexer": "ipython3",
   "version": "3.13.2"
  }
 },
 "nbformat": 4,
 "nbformat_minor": 2
}
