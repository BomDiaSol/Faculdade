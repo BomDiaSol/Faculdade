{
 "cells": [
  {
   "cell_type": "code",
   "execution_count": null,
   "metadata": {},
   "outputs": [],
   "source": [
    "import pandas as pd"
   ]
  },
  {
   "cell_type": "code",
   "execution_count": null,
   "metadata": {},
   "outputs": [],
   "source": [
    "df = pd.read_csv('netflix_titles.csv')\n",
    "df.columns"
   ]
  },
  {
   "cell_type": "code",
   "execution_count": null,
   "metadata": {},
   "outputs": [],
   "source": [
    "df['count'] = 1\n",
    "\n",
    "tipo = df.groupby(['type']).count()['count']\n",
    "tipo"
   ]
  },
  {
   "cell_type": "code",
   "execution_count": null,
   "metadata": {},
   "outputs": [],
   "source": [
    "filme = df[df['type'] == 'Movie'].count()['count']\n",
    "serie = df[df['type'] == 'TV Show'].count()['count']\n",
    "\n",
    "print(f'O número de filmes é: {filme}')\n",
    "print(f'O número de séries é: {serie}')\n"
   ]
  },
  {
   "cell_type": "code",
   "execution_count": null,
   "metadata": {},
   "outputs": [],
   "source": [
    "por_ano = df.groupby(['release_year']).count().sort_values('count', ascending=False)\n",
    "print(por_ano)\n",
    "\n",
    "ano_lancamento = df.groupby(['release_year']).size().idxmax()\n",
    "qnt_lancamentos = df.groupby(['release_year']).size().max()\n",
    "print(f'O ano com maiores nº de lançamentos é {ano_lancamento} com {qnt_lancamentos} lançamentos')"
   ]
  },
  {
   "cell_type": "code",
   "execution_count": null,
   "metadata": {},
   "outputs": [],
   "source": [
    "diretor = df.groupby(['director']).count().sort_values('count', ascending=False)\n",
    "print(diretor)\n",
    "\n",
    "max_diretor = df.groupby(['director']).size().idxmax()\n",
    "qnt_diretor = df.groupby(['director']).size().max()\n",
    "print(f'O diretor com maior quantidades de filmes é: {max_diretor} com {qnt_diretor} filmes lançados')"
   ]
  },
  {
   "cell_type": "code",
   "execution_count": null,
   "metadata": {},
   "outputs": [],
   "source": [
    "df['Tempo desde o lançamento'] = 2025 - df['release_year']\n",
    "\n",
    "print(df.head())"
   ]
  },
  {
   "cell_type": "code",
   "execution_count": null,
   "metadata": {},
   "outputs": [],
   "source": [
    "# Merma coisa que eu fiz só que melhor\n",
    "\n",
    "import pandas as pd\n",
    "import matplotlib.pyplot as plt\n",
    "from datetime import datetime\n",
    "\n",
    "# Carregar o dataset\n",
    "df = pd.read_csv('netflix_titles.csv')\n",
    "\n",
    "# Contagem de filmes e séries\n",
    "tipo = df['type'].value_counts()\n",
    "print(tipo)\n",
    "\n",
    "# Contagem total\n",
    "filmes = tipo.get('Movie', 0)\n",
    "series = tipo.get('TV Show', 0)\n",
    "\n",
    "print(f'O número de filmes é: {filmes}')\n",
    "print(f'O número de séries é: {series}')\n",
    "\n",
    "# Ano com mais lançamentos\n",
    "ano_lancamento = df['release_year'].value_counts().idxmax()\n",
    "qnt_lancamentos = df['release_year'].value_counts().max()\n",
    "print(f'O ano com maior nº de lançamentos é {ano_lancamento} com {qnt_lancamentos} lançamentos')\n",
    "\n",
    "# Diretores mais comuns (removendo valores nulos)\n",
    "df_diretor = df.dropna(subset=['director'])\n",
    "max_diretor = df_diretor['director'].value_counts().idxmax()\n",
    "qnt_diretor = df_diretor['director'].value_counts().max()\n",
    "print(f'O diretor com maior quantidade de filmes é: {max_diretor} com {qnt_diretor} filmes lançados')\n",
    "\n",
    "# Criando a coluna \"Tempo desde o lançamento\"\n",
    "df['Tempo desde o lançamento'] = datetime.now().year - df['release_year']"
   ]
  },
  {
   "cell_type": "code",
   "execution_count": null,
   "metadata": {},
   "outputs": [],
   "source": [
    "# Gráfico de barras para filmes e séries\n",
    "plt.figure(figsize=(6, 4))\n",
    "plt.bar(tipo.index, tipo.values, color=['red', 'blue'])\n",
    "plt.title('Quantidade de Filmes e Séries no Netflix')\n",
    "plt.xlabel('Tipo')\n",
    "plt.ylabel('Quantidade')\n",
    "plt.show()\n",
    "\n",
    "# Histograma de lançamentos por ano\n",
    "plt.figure(figsize=(10, 5))\n",
    "plt.hist(df['release_year'].dropna(), bins=30, color='purple', edgecolor='black')\n",
    "plt.title('Distribuição de Lançamentos por Ano')\n",
    "plt.xlabel('Ano de Lançamento')\n",
    "plt.ylabel('Quantidade')\n",
    "plt.grid(axis='y', linestyle='--', alpha=0.7)\n",
    "plt.show()"
   ]
  }
 ],
 "metadata": {
  "kernelspec": {
   "display_name": "Python 3",
   "language": "python",
   "name": "python3"
  },
  "language_info": {
   "codemirror_mode": {
    "name": "ipython",
    "version": 3
   },
   "file_extension": ".py",
   "mimetype": "text/x-python",
   "name": "python",
   "nbconvert_exporter": "python",
   "pygments_lexer": "ipython3",
   "version": "3.13.2"
  }
 },
 "nbformat": 4,
 "nbformat_minor": 2
}
