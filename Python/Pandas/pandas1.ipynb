{
 "cells": [
  {
   "cell_type": "code",
   "execution_count": null,
   "metadata": {},
   "outputs": [],
   "source": [
    "import pandas as pd"
   ]
  },
  {
   "cell_type": "code",
   "execution_count": null,
   "metadata": {},
   "outputs": [],
   "source": [
    "data = pd.read_csv('pokemon_data.csv')\n",
    "# data_xlsx = pd.read_excel('pokemon_data.xlsx')\n",
    "# data.txt = pd.read_csv('pokemon_data.txt', delimiter='\\t')\n",
    "\n",
    "print(data.head(5))\n",
    "# print(data.tail(5))"
   ]
  },
  {
   "cell_type": "code",
   "execution_count": null,
   "metadata": {},
   "outputs": [],
   "source": [
    "# Ver títulos da tabela\n",
    "data.columns\n",
    "\n",
    "# Ver dados de colunas que eu passar\n",
    "data['Name'] # data.Name\n",
    "data['Name'][0:10] # data.Name[0:10]\n",
    "data[['Name', 'Attack']]\n",
    "\n",
    "# Ver dados de linhas que eu passar. $.iloc[] é acesso por posição(index based) por isso se passa números\n",
    "data.iloc[1] # Linha inteira\n",
    "data.iloc[0:8] # Linha inteira\n",
    "data.iloc[5,1] # Algo específico da linha. iloc[Linha, Coluna]\n",
    "\n",
    "# Iterando sobre as linhas\n",
    "for index, row in data.iterrows(): # Usando .iterrow() é obrigatório passar o index além da coluna desejada\n",
    "     print(index, row['Name'])\n",
    "\n",
    "for index, row in data.iterrows(): # Usando .iterrow() é obrigatório passar o index além da coluna desejada\n",
    "    if row['Attack'] > 70:\n",
    "        print(row['Attack'])"
   ]
  },
  {
   "cell_type": "code",
   "execution_count": null,
   "metadata": {},
   "outputs": [],
   "source": [
    "# .loc[] -> Acesso por Rótulo (Label-based Indexing). Usa os rótulos (nomes das colunas ou índices das linhas) para acessar os dados.\n",
    "data.loc[data['Type 1'] == 'Grass']\n",
    "data.loc[(data['Type 1'] == 'Grass') & (data['Type 2'] == 'Steel')]"
   ]
  },
  {
   "cell_type": "code",
   "execution_count": null,
   "metadata": {},
   "outputs": [],
   "source": [
    "# Sorting\n",
    "\n",
    "data.sort_values('Name') # Ordem crescente\n",
    "data.sort_values('Name', ascending=False) # Ordem decrescente\n",
    "\n",
    "data.sort_values(['Type 1', 'HP'], ascending=[1,0]) # Especificar por coluna\n",
    "                                                    # 1 = Crescente\n",
    "                                                    # 0 = Decrescente\n",
    "\n"
   ]
  },
  {
   "cell_type": "code",
   "execution_count": null,
   "metadata": {},
   "outputs": [],
   "source": [
    "# Modificando o arquivo\n",
    "\n",
    "# data = data.drop(columns=['Total'])\n",
    "\n",
    "# Maneira mais \"confiável\"\n",
    "data['Total'] = data['HP'] + data['Attack'] + data['Defense'] + data['Sp. Atk'] + data['Sp. Def'] + data['Speed']\n",
    "\n",
    "# Maneira mais \"rápida\"\n",
    "data['Total1'] = data.iloc[:, 4:10].sum(axis=1) # [:, 4:10] Significa: Totas as linhas da coluna 4 até a 10\n",
    "                                                # axis = 1 Significa: Somar a linha\n",
    "\n",
    "# Modificando posição da coluna\n",
    "data = data[['#', 'Name', 'Type 1', 'Type 2', 'Total', 'HP', 'Attack', 'Defense', 'Sp. Atk', 'Sp. Def', 'Speed', 'Generation', 'Legendary']]\n",
    "print(data.head(5))"
   ]
  },
  {
   "cell_type": "code",
   "execution_count": null,
   "metadata": {},
   "outputs": [],
   "source": [
    "# data.to_csv('Ajustado.csv')\n",
    "# data.to_excel('Modificado.xlsx') # Precisa do openpyxl\n",
    "data.to_csv('Modificado.txt', sep='\\t')"
   ]
  },
  {
   "cell_type": "code",
   "execution_count": null,
   "metadata": {},
   "outputs": [],
   "source": [
    "# Filtrando\n",
    "\n",
    "new_data = pd.read_csv('pokemon_data.csv')\n",
    "filtrado = new_data.loc[(new_data['Type 1'] == 'Grass') & (new_data['Attack'] > 80)]\n",
    "filtrado.reset_index(drop=True, inplace=True)\n",
    "\n",
    "new_data.loc[new_data['Name'].str.contains('Mega')]  # Recebe as linhas que tem \"Mega\"\n",
    "new_data.loc[~new_data['Name'].str.contains('Mega')] # Exclui as linhas que tem \"Mega\" (~)"
   ]
  },
  {
   "cell_type": "code",
   "execution_count": null,
   "metadata": {},
   "outputs": [],
   "source": [
    "import re\n",
    "\n",
    "new_data = pd.read_csv('pokemon_data.csv')\n",
    "new_data.loc[new_data['Type 1'].str.contains('fire|grass', flags=re.I, regex=True)] # re.I = Ignore case\n",
    "\n",
    "new_data.loc[new_data['Name'].str.contains('^pi[a-z]*', flags=re.I, regex=True)] # ^pi[a-z]* significa:\n",
    "                                                                                 # ^ = Início da linha\n",
    "                                                                                 # pi = \"variavel\" de do filtro\n",
    "                                                                                 # [a-z] = Depois da variável pode ser qualquer letra\n",
    "                                                                                 # * = Zero or more\n",
    "                                                                                 # $ = Final da linha"
   ]
  },
  {
   "cell_type": "code",
   "execution_count": null,
   "metadata": {},
   "outputs": [],
   "source": [
    "# Atualiza valores de uma coluna com base em uma condição em outra coluna.\n",
    "\n",
    "new_data.loc[new_data['Type 1'] == 'Fire', 'Type 1'] = 'Foguinho'\n",
    "new_data.loc[new_data['Type 1'] == 'Foguinho', 'Legendary'] = True\n",
    "\n",
    "new_data.loc[new_data['Type 2'] == 'Water', ['Generation','Speed']] = 69, 420\n",
    "\n",
    "new_data[new_data['Type 2'] == 'Water']"
   ]
  },
  {
   "cell_type": "code",
   "execution_count": null,
   "metadata": {},
   "outputs": [],
   "source": [
    "data2 = pd.read_csv('pokemon_data.csv')\n",
    "\n",
    "# data2.groupby(['Type 1']).mean().sort_values('Defense', ascending=False) -> Descobrir porque da errado\n",
    "\n",
    "data2['count'] = 1\n",
    "\n",
    "data2.groupby(['Type 1']).sum()\n",
    "data2.groupby(['Type 1']).count()\n",
    "\n",
    "data2.groupby(['Type 1', 'Type 2']).count()['count']\n"
   ]
  }
 ],
 "metadata": {
  "kernelspec": {
   "display_name": "Python 3",
   "language": "python",
   "name": "python3"
  },
  "language_info": {
   "codemirror_mode": {
    "name": "ipython",
    "version": 3
   },
   "file_extension": ".py",
   "mimetype": "text/x-python",
   "name": "python",
   "nbconvert_exporter": "python",
   "pygments_lexer": "ipython3",
   "version": "3.13.2"
  }
 },
 "nbformat": 4,
 "nbformat_minor": 2
}
